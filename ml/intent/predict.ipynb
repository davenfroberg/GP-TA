{
 "cells": [
  {
   "cell_type": "code",
   "execution_count": 2,
   "id": "3688baa4",
   "metadata": {},
   "outputs": [],
   "source": [
    "from dotenv import load_dotenv\n",
    "from openai import OpenAI\n",
    "import pandas as pd\n",
    "import numpy as np\n",
    "from sklearn.model_selection import train_test_split\n",
    "from sklearn.linear_model import LogisticRegression\n",
    "from sklearn.metrics import classification_report"
   ]
  },
  {
   "cell_type": "code",
   "execution_count": 3,
   "id": "cda12ef0",
   "metadata": {},
   "outputs": [],
   "source": [
    "load_dotenv()\n",
    "openai_client = OpenAI()"
   ]
  },
  {
   "cell_type": "code",
   "execution_count": 4,
   "id": "447986e8",
   "metadata": {},
   "outputs": [],
   "source": [
    "def get_embeddings(texts):\n",
    "    response = openai_client.embeddings.create(\n",
    "        model=\"text-embedding-3-small\",\n",
    "        input=texts\n",
    "    )\n",
    "    # Extract the embedding vector\n",
    "    return [item.embedding for item in response.data]"
   ]
  },
  {
   "cell_type": "code",
   "execution_count": 5,
   "id": "1f543693",
   "metadata": {},
   "outputs": [],
   "source": [
    "data_df = pd.read_csv('intents.csv', header=0, names=['text', 'intent'])\n",
    "\n",
    "# Create embeddings array\n",
    "X = np.array(get_embeddings(data_df['text'].tolist()))\n",
    "y = data_df['intent'].values\n",
    "\n",
    "# Split into train/test\n",
    "X_train, X_test, y_train, y_test = train_test_split(X, y, test_size=0.2, random_state=42)\n"
   ]
  },
  {
   "cell_type": "code",
   "execution_count": 6,
   "id": "db62ea40",
   "metadata": {},
   "outputs": [
    {
     "name": "stdout",
     "output_type": "stream",
     "text": [
      "Classes: ['general' 'overview' 'summarize']\n",
      "Coef shape: (3, 1536)\n",
      "Intercept shape: (3,)\n"
     ]
    }
   ],
   "source": [
    "import joblib\n",
    "# Train a simple classifier\n",
    "clf = LogisticRegression(max_iter=500)\n",
    "clf.fit(X_train, y_train)\n",
    "\n",
    "lr = clf\n",
    "coef = lr.coef_        # shape: (n_classes, n_features)\n",
    "intercept = lr.intercept_  # shape: (n_classes,)\n",
    "classes = lr.classes_\n",
    "\n",
    "print(\"Classes:\", classes)\n",
    "print(\"Coef shape:\", coef.shape)\n",
    "print(\"Intercept shape:\", intercept.shape)\n",
    "\n",
    "# Save them to disk for Lambda use\n",
    "np.savez(\"lr_params.npz\", coef=coef, intercept=intercept, classes=classes)"
   ]
  },
  {
   "cell_type": "code",
   "execution_count": 7,
   "id": "27bd5fe6",
   "metadata": {},
   "outputs": [
    {
     "name": "stdout",
     "output_type": "stream",
     "text": [
      "              precision    recall  f1-score   support\n",
      "\n",
      "     general       0.81      1.00      0.90        13\n",
      "    overview       1.00      0.80      0.89        15\n",
      "   summarize       1.00      1.00      1.00         6\n",
      "\n",
      "    accuracy                           0.91        34\n",
      "   macro avg       0.94      0.93      0.93        34\n",
      "weighted avg       0.93      0.91      0.91        34\n",
      "\n"
     ]
    }
   ],
   "source": [
    "# Evaluate\n",
    "y_pred = clf.predict(X_test)\n",
    "print(classification_report(y_test, y_pred))"
   ]
  },
  {
   "cell_type": "code",
   "execution_count": 13,
   "id": "82716b2c",
   "metadata": {},
   "outputs": [
    {
     "name": "stdout",
     "output_type": "stream",
     "text": [
      "Query: I don't know where to start on homework 5\n",
      "Predicted Intent: overview\n",
      "\n",
      "Query: Are the grades for homework 2 released yet?\n",
      "Predicted Intent: general\n",
      "\n",
      "Query: Can you summarize the main Piazza posts recently?\n",
      "Predicted Intent: summarize\n",
      "\n",
      "Query: What's the deadline for project 1?\n",
      "Predicted Intent: general\n",
      "\n",
      "Query: I'm stuck on question 3, help me understand it\n",
      "Predicted Intent: overview\n",
      "\n"
     ]
    }
   ],
   "source": [
    "# Example queries to test\n",
    "example_queries = [\n",
    "    \"I don't know where to start on homework 5\",\n",
    "    \"Are the grades for homework 2 released yet?\",\n",
    "    \"Can you summarize the main Piazza posts recently?\",\n",
    "    \"What's the deadline for project 1?\",\n",
    "    \"I'm stuck on question 3, help me understand it\"\n",
    "]\n",
    "\n",
    "# Generate embeddings for these queries\n",
    "example_embeddings = np.array(get_embeddings(example_queries))\n",
    "\n",
    "# Make predictions\n",
    "predicted_intents = clf.predict(example_embeddings)\n",
    "\n",
    "# Print results\n",
    "for query, intent in zip(example_queries, predicted_intents):\n",
    "    print(f\"Query: {query}\\nPredicted Intent: {intent}\\n\")"
   ]
  },
  {
   "cell_type": "code",
   "execution_count": 8,
   "id": "93273104",
   "metadata": {},
   "outputs": [
    {
     "name": "stdout",
     "output_type": "stream",
     "text": [
      "Query: im really stuck on hw3\n",
      "Predicted Intent: A\n",
      "\n",
      "Query: tell me everything you know about hw1\n",
      "Predicted Intent: A\n",
      "\n",
      "Query: how do I register for examlet 1?\n",
      "Predicted Intent: B\n",
      "\n",
      "Query: I'm unable to get a number anywhere close to N=500,000 without the student servers timing out, is this okay?\n",
      "Predicted Intent: B\n",
      "\n",
      "Query: recap what I've missed\n",
      "Predicted Intent: C\n",
      "\n",
      "Query: can I miss lecture?\n",
      "Predicted Intent: B\n",
      "\n"
     ]
    }
   ],
   "source": [
    "# Example queries to test\n",
    "example_queries = [\n",
    "    \"im really stuck on hw3\",\n",
    "    \"tell me everything you know about hw1\",\n",
    "    \"how do I register for examlet 1?\",\n",
    "    \"I'm unable to get a number anywhere close to N=500,000 without the student servers timing out, is this okay?\",\n",
    "    \"recap what I've missed\",\n",
    "    \"can I miss lecture?\"\n",
    "]\n",
    "\n",
    "# Generate embeddings for these queries\n",
    "example_embeddings = np.array(get_embeddings(example_queries))\n",
    "\n",
    "# Make predictions\n",
    "predicted_intents = clf.predict(example_embeddings)\n",
    "\n",
    "# Print results\n",
    "for query, intent in zip(example_queries, predicted_intents):\n",
    "    print(f\"Query: {query}\\nPredicted Intent: {intent}\\n\")"
   ]
  },
  {
   "cell_type": "code",
   "execution_count": 9,
   "id": "896d9a92",
   "metadata": {},
   "outputs": [
    {
     "name": "stdout",
     "output_type": "stream",
     "text": [
      "Query: I don't know where to start on homework 5\n",
      "Predicted Intent: A (Confidence: 0.59)\n",
      "\n",
      "Query: Are the grades for homework 2 released yet?\n",
      "Predicted Intent: B (Confidence: 0.73)\n",
      "\n",
      "Query: Can you summarize the main Piazza posts recently?\n",
      "Predicted Intent: C (Confidence: 0.73)\n",
      "\n",
      "Query: What's the deadline for project 1?\n",
      "Predicted Intent: B (Confidence: 0.71)\n",
      "\n",
      "Query: I'm stuck on question 3, help me understand it\n",
      "Predicted Intent: A (Confidence: 0.54)\n",
      "\n",
      "Query: im really stuck on hw3\n",
      "Predicted Intent: A (Confidence: 0.53)\n",
      "\n",
      "Query: tell me everything you know about hw1\n",
      "Predicted Intent: A (Confidence: 0.45)\n",
      "\n",
      "Query: how do I register for examlet 1?\n",
      "Predicted Intent: B (Confidence: 0.80)\n",
      "\n",
      "Query: I'm unable to get a number anywhere close to N=500,000 without the student servers timing out, is this okay?\n",
      "Predicted Intent: B (Confidence: 0.79)\n",
      "\n",
      "Query: recap what I've missed\n",
      "Predicted Intent: C (Confidence: 0.72)\n",
      "\n",
      "Query: can I miss lecture?\n",
      "Predicted Intent: B (Confidence: 0.71)\n",
      "\n"
     ]
    }
   ],
   "source": [
    "# Example queries\n",
    "example_queries = [\n",
    "    \"I don't know where to start on homework 5\",\n",
    "    \"Are the grades for homework 2 released yet?\",\n",
    "    \"Can you summarize the main Piazza posts recently?\",\n",
    "    \"What's the deadline for project 1?\",\n",
    "    \"I'm stuck on question 3, help me understand it\",\n",
    "    \"im really stuck on hw3\",\n",
    "    \"tell me everything you know about hw1\",\n",
    "    \"how do I register for examlet 1?\",\n",
    "    \"I'm unable to get a number anywhere close to N=500,000 without the student servers timing out, is this okay?\",\n",
    "    \"recap what I've missed\",\n",
    "    \"can I miss lecture?\"\n",
    "]\n",
    "\n",
    "# Generate embeddings\n",
    "example_embeddings = np.array(get_embeddings(example_queries))\n",
    "\n",
    "# Get predicted probabilities\n",
    "probs = clf.predict_proba(example_embeddings)\n",
    "\n",
    "# Get predicted intent and confidence\n",
    "predicted_intents = clf.classes_[np.argmax(probs, axis=1)]\n",
    "confidences = np.max(probs, axis=1)\n",
    "\n",
    "for query, intent, conf in zip(example_queries, predicted_intents, confidences):\n",
    "    print(f\"Query: {query}\\nPredicted Intent: {intent} (Confidence: {conf:.2f})\\n\")"
   ]
  },
  {
   "cell_type": "code",
   "execution_count": 10,
   "id": "5376b32d",
   "metadata": {},
   "outputs": [
    {
     "name": "stdout",
     "output_type": "stream",
     "text": [
      "Query: I don't know where to start on homework 5\n",
      "Predicted Intent: Overview of Assignment (Confidence: 0.59)\n",
      "\n",
      "Query: Are the grades for homework 2 released yet?\n",
      "Predicted Intent: General Query (Confidence: 0.73)\n",
      "\n",
      "Query: Can you summarize the main Piazza posts recently?\n",
      "Predicted Intent: Summary (Confidence: 0.73)\n",
      "\n",
      "Query: What's the deadline for project 1?\n",
      "Predicted Intent: General Query (Confidence: 0.71)\n",
      "\n",
      "Query: I'm stuck on hw1 question 3, help me understand it\n",
      "Predicted Intent: Overview of Assignment (Confidence: 0.65)\n",
      "\n",
      "Query: im really stuck on hw3\n",
      "Predicted Intent: Overview of Assignment (Confidence: 0.53)\n",
      "\n",
      "Query: tell me everything you know about hw1\n",
      "Predicted Intent: Overview of Assignment (Confidence: 0.45)\n",
      "\n",
      "Query: how do I register for examlet 1?\n",
      "Predicted Intent: General Query (Confidence: 0.80)\n",
      "\n",
      "Query: I'm unable to get a number anywhere close to N=500,000 without the student servers timing out, is this okay?\n",
      "Predicted Intent: General Query (Confidence: 0.79)\n",
      "\n",
      "Query: recap what I've missed\n",
      "Predicted Intent: Summary (Confidence: 0.72)\n",
      "\n",
      "Query: can I miss lecture?\n",
      "Predicted Intent: General Query (Confidence: 0.71)\n",
      "\n",
      "Query: is pika 6 released yet?\n",
      "Predicted Intent: General Query (Confidence: 0.69)\n",
      "\n",
      "Query: do I need to do q3 on hw2?\n",
      "Predicted Intent: General Query (Confidence: 0.79)\n",
      "\n",
      "Query: any advice for homework 2?\n",
      "Predicted Intent: Overview of Assignment (Confidence: 0.58)\n",
      "\n",
      "Query: how do I register for examlet 0?\n",
      "Predicted Intent: General Query (Confidence: 0.80)\n",
      "\n",
      "Query: how many in class exercises are required for full marks?\n",
      "Predicted Intent: General Query (Confidence: 0.81)\n",
      "\n"
     ]
    }
   ],
   "source": [
    "# Example queries\n",
    "example_queries = [\n",
    "    \"I don't know where to start on homework 5\",\n",
    "    \"Are the grades for homework 2 released yet?\",\n",
    "    \"Can you summarize the main Piazza posts recently?\",\n",
    "    \"What's the deadline for project 1?\",\n",
    "    \"I'm stuck on hw1 question 3, help me understand it\",\n",
    "    \"im really stuck on hw3\",\n",
    "    \"tell me everything you know about hw1\",\n",
    "    \"how do I register for examlet 1?\",\n",
    "    \"I'm unable to get a number anywhere close to N=500,000 without the student servers timing out, is this okay?\",\n",
    "    \"recap what I've missed\",\n",
    "    \"can I miss lecture?\",\n",
    "    \"is pika 6 released yet?\",\n",
    "    \"do I need to do q3 on hw2?\",\n",
    "    \"any advice for homework 2?\",\n",
    "    \"how do I register for examlet 0?\",\n",
    "    \"how many in class exercises are required for full marks?\"\n",
    "]\n",
    "\n",
    "# Generate embeddings\n",
    "example_embeddings = np.array(get_embeddings(example_queries))\n",
    "\n",
    "# Get predicted probabilities\n",
    "probs = clf.predict_proba(example_embeddings)\n",
    "\n",
    "# Get predicted intent and confidence\n",
    "predicted_intents = clf.classes_[np.argmax(probs, axis=1)]\n",
    "confidences = np.max(probs, axis=1)\n",
    "\n",
    "intent_map = {\n",
    "    'A': 'Overview of Assignment',\n",
    "    'B': 'General Query',\n",
    "    'C': 'Summary'\n",
    "}\n",
    "for query, intent, conf in zip(example_queries, predicted_intents, confidences):\n",
    "    print(f\"Query: {query}\\nPredicted Intent: {intent_map[intent]} (Confidence: {conf:.2f})\\n\")"
   ]
  },
  {
   "cell_type": "code",
   "execution_count": 9,
   "id": "62442868",
   "metadata": {},
   "outputs": [
    {
     "name": "stdout",
     "output_type": "stream",
     "text": [
      "Query: what are people saying about pset 5?\n",
      "Predicted Intent: general (Confidence: 0.55)\n",
      "\n"
     ]
    }
   ],
   "source": [
    "# Example queries\n",
    "example_queries = [\n",
    "    \"what are people saying about pset 5?\"\n",
    "]\n",
    "\n",
    "# Generate embeddings\n",
    "example_embeddings = np.array(get_embeddings(example_queries))\n",
    "\n",
    "# Get predicted probabilities\n",
    "probs = clf.predict_proba(example_embeddings)\n",
    "\n",
    "# Get predicted intent and confidence\n",
    "predicted_intents = clf.classes_[np.argmax(probs, axis=1)]\n",
    "confidences = np.max(probs, axis=1)\n",
    "\n",
    "for query, intent, conf in zip(example_queries, predicted_intents, confidences):\n",
    "    print(f\"Query: {query}\\nPredicted Intent: {intent} (Confidence: {conf:.2f})\\n\")"
   ]
  }
 ],
 "metadata": {
  "kernelspec": {
   "display_name": "gp-ta-312",
   "language": "python",
   "name": "python3"
  },
  "language_info": {
   "codemirror_mode": {
    "name": "ipython",
    "version": 3
   },
   "file_extension": ".py",
   "mimetype": "text/x-python",
   "name": "python",
   "nbconvert_exporter": "python",
   "pygments_lexer": "ipython3",
   "version": "3.12.11"
  }
 },
 "nbformat": 4,
 "nbformat_minor": 5
}
